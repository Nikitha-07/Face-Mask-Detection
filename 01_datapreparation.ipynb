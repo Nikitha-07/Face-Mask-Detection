{
 "cells": [
  {
   "cell_type": "code",
   "execution_count": 1,
   "id": "e39e668c",
   "metadata": {},
   "outputs": [],
   "source": [
    "#import all librabies \n",
    "import os\n",
    "import numpy as np\n",
    "import pandas as pd\n",
    "import cv2\n",
    "import sys\n",
    "import gc\n",
    "from tqdm import tqdm\n",
    "from glob import glob\n"
   ]
  },
  {
   "cell_type": "markdown",
   "id": "f6dead4e",
   "metadata": {},
   "source": [
    "### Step-1 and 2\n",
    "- collect\n",
    "- labelling\n"
   ]
  },
  {
   "cell_type": "code",
   "execution_count": 2,
   "id": "16964bf5",
   "metadata": {},
   "outputs": [],
   "source": [
    "dirs = os.listdir('dataset_new')\n",
    "images_path = []\n",
    "labels = []\n",
    "\n",
    "for folder in dirs:\n",
    "    path = glob('./dataset_new/{}/*.jpg'.format(folder))\n",
    "    label = ['{}'.format(folder)]*len(path)\n",
    "    #print(label)\n",
    "    images_path.extend(path)\n",
    "    labels.extend(label)"
   ]
  },
  {
   "cell_type": "code",
   "execution_count": 3,
   "id": "118ea8f1",
   "metadata": {},
   "outputs": [],
   "source": [
    "img_path = images_path[1]\n",
    "img = cv2.imread(img_path)"
   ]
  },
  {
   "cell_type": "code",
   "execution_count": 4,
   "id": "5ada6354",
   "metadata": {},
   "outputs": [],
   "source": [
    "cv2.imshow('original',img)\n",
    "cv2.waitKey()\n",
    "cv2.destroyAllWindows()"
   ]
  },
  {
   "cell_type": "code",
   "execution_count": 5,
   "id": "32d16df2",
   "metadata": {},
   "outputs": [],
   "source": [
    "#face detection \n",
    "face_detection_model = cv2.dnn.readNetFromCaffe('./models/deploy.prototxt.txt',\n",
    "                                                './models/res10_300x300_ssd_iter_140000_fp16.caffemodel')"
   ]
  },
  {
   "cell_type": "code",
   "execution_count": 6,
   "id": "a1eb6f43",
   "metadata": {},
   "outputs": [],
   "source": [
    "def face_detection_dnn(img):\n",
    "    #blob from image (rgb mean subtraction image)\n",
    "\n",
    "    image = img.copy()\n",
    "    h,w = image.shape[:2]\n",
    "    blob = cv2.dnn.blobFromImage(image,1,(300,300),(104,117,123),swapRB=True)\n",
    "\n",
    "    # get the detections\n",
    "\n",
    "    face_detection_model.setInput(blob)\n",
    "    detections = face_detection_model.forward()\n",
    "    for i in range(0,detections.shape[2]):\n",
    "        confidence = detections[0,0,i,2] # confidence score\n",
    "        if confidence > 0.5:\n",
    "            box = detections[0,0,i,3:7]*np.array([w,h,w,h])\n",
    "            box = box.astype(int)\n",
    "       \n",
    "            pt1 = (box[0],box[1])\n",
    "            pt2 = (box[2],box[3])\n",
    "           # cv2.rectangle(image,pt1,pt2,(0,255,0),2)\n",
    "            roi = image[box[1]:box[3],box[0]:box[2]]\n",
    "            \n",
    "            return roi\n",
    "    return None\n",
    "    \n",
    "    \n"
   ]
  },
  {
   "cell_type": "code",
   "execution_count": 7,
   "id": "e07082c6",
   "metadata": {},
   "outputs": [],
   "source": [
    "img_roi = face_detection_dnn(img)"
   ]
  },
  {
   "cell_type": "code",
   "execution_count": 8,
   "id": "4292429a",
   "metadata": {},
   "outputs": [],
   "source": [
    "cv2.imshow('roi',img_roi)\n",
    "cv2.imshow('original',img)\n",
    "cv2.waitKey()\n",
    "cv2.destroyAllWindows()\n",
    "    "
   ]
  },
  {
   "cell_type": "code",
   "execution_count": 9,
   "id": "c0d78dd3",
   "metadata": {},
   "outputs": [],
   "source": [
    "def datapreprocess(img):\n",
    "    #blob from image (rgb mean subtraction image)\n",
    "    \n",
    "    face = face_detection_dnn(img)\n",
    "    if face is not None:\n",
    "        \n",
    "        \n",
    "        # Computing blob from image\n",
    "        blob = cv2.dnn.blobFromImage(face,1,(100,100),(104,117,123),swapRB=True)\n",
    "        blob_squeeze = np.squeeze(blob).T\n",
    "        blob_rotate = cv2.rotate(blob_squeeze,cv2.ROTATE_90_CLOCKWISE)\n",
    "        blob_flip = cv2.flip(blob_rotate,1)\n",
    "        # remove negative values and normalize\n",
    "        img_norm = np.maximum(blob_flip,0)/blob_flip.max()\n",
    "\n",
    "        return img_norm\n",
    "    else:\n",
    "        return None\n",
    "    \n",
    "\n"
   ]
  },
  {
   "cell_type": "code",
   "execution_count": 10,
   "id": "386266a7",
   "metadata": {},
   "outputs": [
    {
     "name": "stderr",
     "output_type": "stream",
     "text": [
      "preprocessing: 10000it [16:25, 10.15it/s]\n"
     ]
    }
   ],
   "source": [
    "# len(images_path)\n",
    "\n",
    "\n",
    "data_img = []\n",
    "label_img = []\n",
    "\n",
    "i = 0\n",
    "for path, label in tqdm(zip(images_path,labels),desc='preprocessing'):\n",
    "    img = cv2.imread(path)\n",
    "    process_img = datapreprocess(img)\n",
    "    if process_img is not None:\n",
    "        data_img.append(process_img)\n",
    "        label_img.append(label)\n",
    "    i += 1    \n",
    "    if i%100 == 0:\n",
    "        gc.collect()"
   ]
  },
  {
   "cell_type": "code",
   "execution_count": 11,
   "id": "89b84c92",
   "metadata": {},
   "outputs": [],
   "source": [
    "X = np.array(data_img)\n",
    "Y = np.array(label_img)"
   ]
  },
  {
   "cell_type": "code",
   "execution_count": 12,
   "id": "416b2802",
   "metadata": {},
   "outputs": [
    {
     "data": {
      "text/plain": [
       "((9959, 100, 100, 3), (9959,))"
      ]
     },
     "execution_count": 12,
     "metadata": {},
     "output_type": "execute_result"
    }
   ],
   "source": [
    "X.shape , Y.shape"
   ]
  },
  {
   "cell_type": "code",
   "execution_count": 13,
   "id": "a861b9ef",
   "metadata": {},
   "outputs": [],
   "source": [
    "np.savez('./dataset_new/data_preprocess.npz',X,Y)"
   ]
  },
  {
   "cell_type": "markdown",
   "id": "4582d6f3",
   "metadata": {},
   "source": []
  }
 ],
 "metadata": {
  "kernelspec": {
   "display_name": "Python 3",
   "language": "python",
   "name": "python3"
  },
  "language_info": {
   "codemirror_mode": {
    "name": "ipython",
    "version": 3
   },
   "file_extension": ".py",
   "mimetype": "text/x-python",
   "name": "python",
   "nbconvert_exporter": "python",
   "pygments_lexer": "ipython3",
   "version": "3.8.8"
  }
 },
 "nbformat": 4,
 "nbformat_minor": 5
}
