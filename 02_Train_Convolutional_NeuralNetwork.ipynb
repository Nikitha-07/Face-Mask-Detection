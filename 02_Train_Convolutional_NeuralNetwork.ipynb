{
 "cells": [
  {
   "cell_type": "code",
   "execution_count": 1,
   "id": "c3cb2aef",
   "metadata": {},
   "outputs": [],
   "source": [
    "import os\n",
    "import numpy as np\n",
    "import cv2\n",
    "import gc"
   ]
  },
  {
   "cell_type": "code",
   "execution_count": 2,
   "id": "32fd5c5c",
   "metadata": {},
   "outputs": [],
   "source": [
    "#load the preprocessed data\n",
    "data = np.load('./dataset_new/data_preprocess.npz')"
   ]
  },
  {
   "cell_type": "code",
   "execution_count": 3,
   "id": "a7bf6327",
   "metadata": {},
   "outputs": [],
   "source": [
    "X = data['arr_0']\n",
    "Y = data['arr_1']"
   ]
  },
  {
   "cell_type": "code",
   "execution_count": 4,
   "id": "a3416d5d",
   "metadata": {},
   "outputs": [
    {
     "data": {
      "text/plain": [
       "((9959, 100, 100, 3), (9959,))"
      ]
     },
     "execution_count": 4,
     "metadata": {},
     "output_type": "execute_result"
    }
   ],
   "source": [
    "X.shape,Y.shape"
   ]
  },
  {
   "cell_type": "code",
   "execution_count": 5,
   "id": "154e0b3a",
   "metadata": {},
   "outputs": [
    {
     "data": {
      "text/plain": [
       "array(['Mask', 'Mask_Chin', 'Mask_Mouth_Chin', 'Mask_Nose_Mouth'],\n",
       "      dtype='<U15')"
      ]
     },
     "execution_count": 5,
     "metadata": {},
     "output_type": "execute_result"
    }
   ],
   "source": [
    "np.unique(Y)"
   ]
  },
  {
   "cell_type": "code",
   "execution_count": 6,
   "id": "1e5763bf",
   "metadata": {},
   "outputs": [],
   "source": [
    "from sklearn.preprocessing import OneHotEncoder"
   ]
  },
  {
   "cell_type": "code",
   "execution_count": 7,
   "id": "e3cbea8d",
   "metadata": {},
   "outputs": [],
   "source": [
    "onehot = OneHotEncoder()\n",
    "Y_onehot = onehot.fit_transform(Y.reshape(-1,1))"
   ]
  },
  {
   "cell_type": "code",
   "execution_count": 8,
   "id": "b60897ad",
   "metadata": {},
   "outputs": [],
   "source": [
    "Y_array = Y_onehot.toarray()"
   ]
  },
  {
   "cell_type": "code",
   "execution_count": 9,
   "id": "788160b1",
   "metadata": {},
   "outputs": [
    {
     "data": {
      "text/plain": [
       "array([[1., 0., 0., 0.],\n",
       "       [1., 0., 0., 0.],\n",
       "       [1., 0., 0., 0.],\n",
       "       ...,\n",
       "       [0., 0., 0., 1.],\n",
       "       [0., 0., 0., 1.],\n",
       "       [0., 0., 0., 1.]])"
      ]
     },
     "execution_count": 9,
     "metadata": {},
     "output_type": "execute_result"
    }
   ],
   "source": [
    "Y_array"
   ]
  },
  {
   "cell_type": "markdown",
   "id": "85729962",
   "metadata": {},
   "source": [
    "## Split the data into Train and Test sets"
   ]
  },
  {
   "cell_type": "code",
   "execution_count": 10,
   "id": "ab600f17",
   "metadata": {},
   "outputs": [],
   "source": [
    "from sklearn.model_selection import train_test_split\n",
    "X_train, X_test, Y_train, Y_test = train_test_split(X,Y_array,test_size=0.2,random_state=42)"
   ]
  },
  {
   "cell_type": "code",
   "execution_count": 11,
   "id": "35a93c9a",
   "metadata": {},
   "outputs": [
    {
     "data": {
      "text/plain": [
       "((7967, 100, 100, 3), (1992, 100, 100, 3), (7967, 4), (1992, 4))"
      ]
     },
     "execution_count": 11,
     "metadata": {},
     "output_type": "execute_result"
    }
   ],
   "source": [
    "X_train.shape, X_test.shape, Y_train.shape, Y_test.shape"
   ]
  },
  {
   "cell_type": "code",
   "execution_count": 12,
   "id": "db5d9f4f",
   "metadata": {},
   "outputs": [],
   "source": [
    "import tensorflow as tf\n",
    "from tensorflow.keras import layers\n",
    "from tensorflow.keras import Sequential \n"
   ]
  },
  {
   "cell_type": "code",
   "execution_count": 25,
   "id": "fd9ad00b",
   "metadata": {},
   "outputs": [],
   "source": [
    "# convolutional neural network\n",
    "\n",
    "model = Sequential([\n",
    "    layers.Conv2D(16,3,padding='same',input_shape=(100,100,3),activation='relu'),\n",
    "    layers.MaxPool2D(),\n",
    "    layers.Conv2D(32,3,padding='same',activation='relu'),\n",
    "    layers.MaxPool2D(),\n",
    "    layers.Conv2D(64,3,padding='same',activation='relu'),\n",
    "    layers.MaxPool2D(),\n",
    "    layers.Flatten(),\n",
    "    layers.Dense(192,activation='relu'),\n",
    "    layers.Dense(28,activation='relu'),\n",
    "    layers.Dense(4,activation='relu')\n",
    "  \n",
    "\n",
    "])\n",
    "\n",
    "# compliling CNN\n",
    "optimizer = tf.keras.optimizers.Adam(learning_rate=0.001)\n",
    "loss=tf.keras.losses.categorical_crossentropy\n",
    "\n",
    "model.compile(optimizer=optimizer,loss=loss,metrics=['accuracy'])"
   ]
  },
  {
   "cell_type": "code",
   "execution_count": 27,
   "id": "aa415fb0",
   "metadata": {},
   "outputs": [
    {
     "name": "stdout",
     "output_type": "stream",
     "text": [
      "Model: \"sequential_3\"\n",
      "_________________________________________________________________\n",
      "Layer (type)                 Output Shape              Param #   \n",
      "=================================================================\n",
      "conv2d_9 (Conv2D)            (None, 100, 100, 16)      448       \n",
      "_________________________________________________________________\n",
      "max_pooling2d_9 (MaxPooling2 (None, 50, 50, 16)        0         \n",
      "_________________________________________________________________\n",
      "conv2d_10 (Conv2D)           (None, 50, 50, 32)        4640      \n",
      "_________________________________________________________________\n",
      "max_pooling2d_10 (MaxPooling (None, 25, 25, 32)        0         \n",
      "_________________________________________________________________\n",
      "conv2d_11 (Conv2D)           (None, 25, 25, 64)        18496     \n",
      "_________________________________________________________________\n",
      "max_pooling2d_11 (MaxPooling (None, 12, 12, 64)        0         \n",
      "_________________________________________________________________\n",
      "flatten_3 (Flatten)          (None, 9216)              0         \n",
      "_________________________________________________________________\n",
      "dense_9 (Dense)              (None, 192)               1769664   \n",
      "_________________________________________________________________\n",
      "dense_10 (Dense)             (None, 28)                5404      \n",
      "_________________________________________________________________\n",
      "dense_11 (Dense)             (None, 4)                 116       \n",
      "=================================================================\n",
      "Total params: 1,798,768\n",
      "Trainable params: 1,798,768\n",
      "Non-trainable params: 0\n",
      "_________________________________________________________________\n"
     ]
    }
   ],
   "source": [
    "model.summary()"
   ]
  },
  {
   "cell_type": "code",
   "execution_count": 29,
   "id": "94fb2412",
   "metadata": {},
   "outputs": [
    {
     "name": "stdout",
     "output_type": "stream",
     "text": [
      "Epoch 1/30\n",
      "133/133 [==============================] - 62s 466ms/step - loss: nan - accuracy: 0.2474 - val_loss: nan - val_accuracy: 0.2540\n",
      "Epoch 2/30\n",
      "133/133 [==============================] - 47s 355ms/step - loss: nan - accuracy: 0.2474 - val_loss: nan - val_accuracy: 0.2540\n",
      "Epoch 3/30\n",
      "133/133 [==============================] - 53s 396ms/step - loss: nan - accuracy: 0.2474 - val_loss: nan - val_accuracy: 0.2540\n",
      "Epoch 4/30\n",
      "133/133 [==============================] - 58s 433ms/step - loss: nan - accuracy: 0.2474 - val_loss: nan - val_accuracy: 0.2540\n",
      "Epoch 5/30\n",
      "133/133 [==============================] - 58s 434ms/step - loss: nan - accuracy: 0.2474 - val_loss: nan - val_accuracy: 0.2540\n",
      "Epoch 6/30\n",
      "133/133 [==============================] - 59s 443ms/step - loss: nan - accuracy: 0.2474 - val_loss: nan - val_accuracy: 0.2540\n",
      "Epoch 7/30\n",
      "133/133 [==============================] - 55s 414ms/step - loss: nan - accuracy: 0.2474 - val_loss: nan - val_accuracy: 0.2540\n",
      "Epoch 8/30\n",
      "133/133 [==============================] - 56s 423ms/step - loss: nan - accuracy: 0.2474 - val_loss: nan - val_accuracy: 0.2540\n",
      "Epoch 9/30\n",
      "133/133 [==============================] - 55s 411ms/step - loss: nan - accuracy: 0.2474 - val_loss: nan - val_accuracy: 0.2540\n",
      "Epoch 10/30\n",
      "133/133 [==============================] - 59s 441ms/step - loss: nan - accuracy: 0.2474 - val_loss: nan - val_accuracy: 0.2540\n",
      "Epoch 11/30\n",
      "133/133 [==============================] - 58s 439ms/step - loss: nan - accuracy: 0.2474 - val_loss: nan - val_accuracy: 0.2540\n",
      "Epoch 12/30\n",
      "133/133 [==============================] - 55s 416ms/step - loss: nan - accuracy: 0.2474 - val_loss: nan - val_accuracy: 0.2540\n",
      "Epoch 13/30\n",
      "133/133 [==============================] - 53s 402ms/step - loss: nan - accuracy: 0.2474 - val_loss: nan - val_accuracy: 0.2540\n",
      "Epoch 14/30\n",
      "133/133 [==============================] - 49s 369ms/step - loss: nan - accuracy: 0.2474 - val_loss: nan - val_accuracy: 0.2540\n",
      "Epoch 15/30\n",
      "133/133 [==============================] - 44s 334ms/step - loss: nan - accuracy: 0.2474 - val_loss: nan - val_accuracy: 0.2540\n",
      "Epoch 16/30\n",
      "133/133 [==============================] - 46s 346ms/step - loss: nan - accuracy: 0.2474 - val_loss: nan - val_accuracy: 0.2540\n",
      "Epoch 17/30\n",
      "133/133 [==============================] - 45s 338ms/step - loss: nan - accuracy: 0.2474 - val_loss: nan - val_accuracy: 0.2540\n",
      "Epoch 18/30\n",
      "133/133 [==============================] - 46s 345ms/step - loss: nan - accuracy: 0.2474 - val_loss: nan - val_accuracy: 0.2540\n",
      "Epoch 19/30\n",
      "133/133 [==============================] - 44s 334ms/step - loss: nan - accuracy: 0.2474 - val_loss: nan - val_accuracy: 0.2540\n",
      "Epoch 20/30\n",
      "133/133 [==============================] - 47s 350ms/step - loss: nan - accuracy: 0.2474 - val_loss: nan - val_accuracy: 0.2540\n",
      "Epoch 21/30\n",
      "133/133 [==============================] - 45s 338ms/step - loss: nan - accuracy: 0.2474 - val_loss: nan - val_accuracy: 0.2540\n",
      "Epoch 22/30\n",
      "133/133 [==============================] - 48s 362ms/step - loss: nan - accuracy: 0.2474 - val_loss: nan - val_accuracy: 0.2540\n",
      "Epoch 23/30\n",
      "133/133 [==============================] - 44s 334ms/step - loss: nan - accuracy: 0.2474 - val_loss: nan - val_accuracy: 0.2540\n",
      "Epoch 24/30\n",
      "133/133 [==============================] - 46s 346ms/step - loss: nan - accuracy: 0.2474 - val_loss: nan - val_accuracy: 0.2540\n",
      "Epoch 25/30\n",
      "133/133 [==============================] - 46s 346ms/step - loss: nan - accuracy: 0.2474 - val_loss: nan - val_accuracy: 0.2540\n",
      "Epoch 26/30\n",
      "133/133 [==============================] - 46s 348ms/step - loss: nan - accuracy: 0.2474 - val_loss: nan - val_accuracy: 0.2540\n",
      "Epoch 27/30\n",
      "133/133 [==============================] - 47s 351ms/step - loss: nan - accuracy: 0.2474 - val_loss: nan - val_accuracy: 0.2540\n",
      "Epoch 28/30\n",
      "133/133 [==============================] - 46s 345ms/step - loss: nan - accuracy: 0.2474 - val_loss: nan - val_accuracy: 0.2540\n",
      "Epoch 29/30\n",
      "133/133 [==============================] - 45s 340ms/step - loss: nan - accuracy: 0.2474 - val_loss: nan - val_accuracy: 0.2540\n",
      "Epoch 30/30\n",
      "133/133 [==============================] - 46s 344ms/step - loss: nan - accuracy: 0.2474 - val_loss: nan - val_accuracy: 0.2540\n"
     ]
    }
   ],
   "source": [
    "# training CNN \n",
    "\n",
    "history = model.fit(x=X_train,y=Y_train,validation_data=(X_test,Y_test),batch_size=60,epochs=30)"
   ]
  },
  {
   "cell_type": "code",
   "execution_count": 16,
   "id": "187c627a",
   "metadata": {},
   "outputs": [],
   "source": [
    "import pandas as pd\n",
    "import matplotlib.pyplot as plt\n"
   ]
  },
  {
   "cell_type": "code",
   "execution_count": 17,
   "id": "26c4039b",
   "metadata": {},
   "outputs": [],
   "source": [
    "history_df = pd.DataFrame(history.history)"
   ]
  },
  {
   "cell_type": "code",
   "execution_count": 18,
   "id": "067aa8b0",
   "metadata": {},
   "outputs": [
    {
     "data": {
      "text/html": [
       "<div>\n",
       "<style scoped>\n",
       "    .dataframe tbody tr th:only-of-type {\n",
       "        vertical-align: middle;\n",
       "    }\n",
       "\n",
       "    .dataframe tbody tr th {\n",
       "        vertical-align: top;\n",
       "    }\n",
       "\n",
       "    .dataframe thead th {\n",
       "        text-align: right;\n",
       "    }\n",
       "</style>\n",
       "<table border=\"1\" class=\"dataframe\">\n",
       "  <thead>\n",
       "    <tr style=\"text-align: right;\">\n",
       "      <th></th>\n",
       "      <th>loss</th>\n",
       "      <th>accuracy</th>\n",
       "      <th>val_loss</th>\n",
       "      <th>val_accuracy</th>\n",
       "    </tr>\n",
       "  </thead>\n",
       "  <tbody>\n",
       "    <tr>\n",
       "      <th>0</th>\n",
       "      <td>NaN</td>\n",
       "      <td>0.247647</td>\n",
       "      <td>NaN</td>\n",
       "      <td>0.254016</td>\n",
       "    </tr>\n",
       "    <tr>\n",
       "      <th>1</th>\n",
       "      <td>NaN</td>\n",
       "      <td>0.247396</td>\n",
       "      <td>NaN</td>\n",
       "      <td>0.254016</td>\n",
       "    </tr>\n",
       "    <tr>\n",
       "      <th>2</th>\n",
       "      <td>NaN</td>\n",
       "      <td>0.247396</td>\n",
       "      <td>NaN</td>\n",
       "      <td>0.254016</td>\n",
       "    </tr>\n",
       "    <tr>\n",
       "      <th>3</th>\n",
       "      <td>NaN</td>\n",
       "      <td>0.247396</td>\n",
       "      <td>NaN</td>\n",
       "      <td>0.254016</td>\n",
       "    </tr>\n",
       "    <tr>\n",
       "      <th>4</th>\n",
       "      <td>NaN</td>\n",
       "      <td>0.247396</td>\n",
       "      <td>NaN</td>\n",
       "      <td>0.254016</td>\n",
       "    </tr>\n",
       "  </tbody>\n",
       "</table>\n",
       "</div>"
      ],
      "text/plain": [
       "   loss  accuracy  val_loss  val_accuracy\n",
       "0   NaN  0.247647       NaN      0.254016\n",
       "1   NaN  0.247396       NaN      0.254016\n",
       "2   NaN  0.247396       NaN      0.254016\n",
       "3   NaN  0.247396       NaN      0.254016\n",
       "4   NaN  0.247396       NaN      0.254016"
      ]
     },
     "execution_count": 18,
     "metadata": {},
     "output_type": "execute_result"
    }
   ],
   "source": [
    "history_df"
   ]
  },
  {
   "cell_type": "code",
   "execution_count": 19,
   "id": "b6f6157d",
   "metadata": {},
   "outputs": [
    {
     "data": {
      "image/png": "[encoded data removed]",
      "text/plain": [
       "<Figure size 432x288 with 1 Axes>"
      ]
     },
     "metadata": {
      "needs_background": "light"
     },
     "output_type": "display_data"
    }
   ],
   "source": [
    "history_df[['loss','val_loss']].plot(kind='line')\n",
    "plt.xlabel('Epochs')\n",
    "plt.ylabel('Loss')\n",
    "plt.xticks(list(range(10)),list(range(1,11)))\n",
    "plt.show()"
   ]
  },
  {
   "cell_type": "code",
   "execution_count": 20,
   "id": "1493ffac",
   "metadata": {},
   "outputs": [
    {
     "data": {
      "image/png": "[encoded data removed]",
      "text/plain": [
       "<Figure size 432x288 with 1 Axes>"
      ]
     },
     "metadata": {
      "needs_background": "light"
     },
     "output_type": "display_data"
    }
   ],
   "source": [
    "history_df[['accuracy','val_accuracy']].plot(kind='line')\n",
    "plt.xlabel('Epochs')\n",
    "plt.ylabel('Accuracy')\n",
    "plt.xticks(list(range(10)),list(range(1,11)))\n",
    "plt.show()"
   ]
  },
  {
   "cell_type": "code",
   "execution_count": 21,
   "id": "c345d7d6",
   "metadata": {},
   "outputs": [
    {
     "name": "stdout",
     "output_type": "stream",
     "text": [
      "INFO:tensorflow:Assets written to: face_cnn_model\\assets\n"
     ]
    }
   ],
   "source": [
    "# save CNN Model\n",
    "\n",
    "model.save('face_cnn_model')"
   ]
  },
  {
   "cell_type": "code",
   "execution_count": 22,
   "id": "0fe5f43f",
   "metadata": {},
   "outputs": [
    {
     "data": {
      "text/plain": [
       "[array(['Mask', 'Mask_Chin', 'Mask_Mouth_Chin', 'Mask_Nose_Mouth'],\n",
       "       dtype='<U15')]"
      ]
     },
     "execution_count": 22,
     "metadata": {},
     "output_type": "execute_result"
    }
   ],
   "source": [
    "onehot.categories_"
   ]
  },
  {
   "cell_type": "code",
   "execution_count": null,
   "id": "ee2ebb4a",
   "metadata": {},
   "outputs": [],
   "source": []
  }
 ],
 "metadata": {
  "kernelspec": {
   "display_name": "Python 3",
   "language": "python",
   "name": "python3"
  },
  "language_info": {
   "codemirror_mode": {
    "name": "ipython",
    "version": 3
   },
   "file_extension": ".py",
   "mimetype": "text/x-python",
   "name": "python",
   "nbconvert_exporter": "python",
   "pygments_lexer": "ipython3",
   "version": "3.8.8"
  }
 },
 "nbformat": 4,
 "nbformat_minor": 5
}
