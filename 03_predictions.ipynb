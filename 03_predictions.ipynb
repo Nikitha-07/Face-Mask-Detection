{
 "cells": [
  {
   "cell_type": "code",
   "execution_count": 1,
   "id": "3c92f99d",
   "metadata": {},
   "outputs": [],
   "source": [
    "import numpy as np \n",
    "import cv2\n",
    "import tensorflow as tf"
   ]
  },
  {
   "cell_type": "code",
   "execution_count": 2,
   "id": "ef5df407",
   "metadata": {},
   "outputs": [],
   "source": [
    "from scipy.special import softmax"
   ]
  },
  {
   "cell_type": "code",
   "execution_count": 3,
   "id": "3808ef6a",
   "metadata": {},
   "outputs": [],
   "source": [
    "# face detection model\n",
    "face_detection_model = cv2.dnn.readNetFromCaffe('./models/deploy.prototxt.txt',\n",
    "                                                './models/res10_300x300_ssd_iter_140000_fp16.caffemodel')\n",
    "\n",
    "#face mask recognition model\n",
    "model = tf.keras.models.load_model('face_cnn_model/')"
   ]
  },
  {
   "cell_type": "code",
   "execution_count": 4,
   "id": "dd3cf858",
   "metadata": {},
   "outputs": [],
   "source": [
    "#label \n",
    "\n",
    "labels = ['Mask','No Mask','Covered Mouch Chin','Covered Nose Mouth']\n",
    "\n",
    "\n",
    "def getcolor(label):\n",
    "    if label == 'Mask':\n",
    "        color = (0,255,0)\n",
    "    elif label == 'No Mask':\n",
    "        color = (0,0,255)\n",
    "    elif label == 'Covered Mouch Chin':\n",
    "        color = (0,255,255)\n",
    "    else:\n",
    "        color = (255,255,0)\n",
    "        \n",
    "    return color"
   ]
  },
  {
   "cell_type": "code",
   "execution_count": 5,
   "id": "95b72f5d",
   "metadata": {},
   "outputs": [
    {
     "data": {
      "text/plain": [
       "(0, 255, 255)"
      ]
     },
     "execution_count": 5,
     "metadata": {},
     "output_type": "execute_result"
    }
   ],
   "source": [
    "getcolor('Covered Mouch Chin')"
   ]
  },
  {
   "cell_type": "code",
   "execution_count": 6,
   "id": "43af830c",
   "metadata": {},
   "outputs": [],
   "source": [
    "def face_mask_prediction(img):\n",
    "    # Step-1 Face Detection \n",
    "    image = img.copy()\n",
    "    h, w = image.shape[:2]\n",
    "    blob = cv2.dnn.blobFromImage(image,1,(300,300),(104,117,123),swapRB=True)\n",
    "    #\n",
    "    face_detection_model.setInput(blob)\n",
    "    detection = face_detection_model.forward() # it will give the detections\n",
    "    for i in range(0,detection.shape[2]):\n",
    "        confidence = detection[0,0,i,2]\n",
    "        if confidence > 0.5:\n",
    "            box = detection[0,0,i,3:7]*np.array([w,h,w,h])\n",
    "            box = box.astype(int)\n",
    "            pt1 = (box[0],box[1])\n",
    "            pt2 = (box[2],box[3])\n",
    "\n",
    "\n",
    "            # Step-2 Data Preprocessing\n",
    "            face = image[box[1]:box[3],box[0]:box[2]]\n",
    "            face_blob = cv2.dnn.blobFromImage(face,1,(100,100),(104,117,123),swapRB=True)\n",
    "            face_blob_squeeze = np.squeeze(face_blob).T\n",
    "            face_blob_rotate = cv2.rotate(face_blob_squeeze,cv2.ROTATE_90_CLOCKWISE)\n",
    "            face_blob_flip = cv2.flip(face_blob_rotate,1)\n",
    "            #normalization\n",
    "            img_norm = np.maximum(face_blob_flip,0)/face_blob_flip.max()\n",
    "            # Step-3 Deep Learning (CNN)\n",
    "            img_input = img_norm.reshape(1,100,100,3)\n",
    "            result = model.predict(img_input)\n",
    "            result = softmax(result)[0]\n",
    "            confidence_index = result.argmax()\n",
    "            confidence_score = result[confidence_index]\n",
    "            label = labels[confidence_index]\n",
    "            label_text = '{}: {:,.0f} %'.format(label,confidence_score*100)\n",
    "            #print(label_text)\n",
    "            #color\n",
    "            color = getcolor(label)\n",
    "            cv2.rectangle(image,pt1,pt2,color,1)\n",
    "            cv2.putText(image,label_text,pt1,cv2.FONT_HERSHEY_PLAIN,2,color,2)\n",
    "\n",
    "        return image\n",
    "\n",
    "\n",
    "\n"
   ]
  },
  {
   "cell_type": "code",
   "execution_count": 9,
   "id": "a03d1283",
   "metadata": {},
   "outputs": [],
   "source": [
    "# recognition code\n",
    "\n",
    "img = cv2.imread('./women-wearing-mask.jpg')\n",
    "\n",
    "image = face_mask_prediction(img)\n",
    "\n",
    "cv2.imshow('predictions',image)\n",
    "cv2.waitKey()\n",
    "cv2.destroyAllWindows()"
   ]
  },
  {
   "cell_type": "markdown",
   "id": "89ade07f",
   "metadata": {},
   "source": [
    "\n",
    "## Real time Face Mask detection"
   ]
  },
  {
   "cell_type": "code",
   "execution_count": 8,
   "id": "b62aa4d0",
   "metadata": {},
   "outputs": [],
   "source": [
    "cap = cv2.VideoCapture(0)\n",
    "\n",
    "while True:\n",
    "    ret, frames = cap.read()\n",
    "    if ret == False:\n",
    "        break\n",
    "    image = face_mask_prediction(frames)\n",
    "    cv2.imshow('Face Mask Prediction',image)\n",
    "    if cv2.waitKey(1) == 27:\n",
    "        break\n",
    "\n",
    "cap.release()\n",
    "cv2.destroyAllWindows()"
   ]
  },
  {
   "cell_type": "code",
   "execution_count": null,
   "id": "ae56967b",
   "metadata": {},
   "outputs": [],
   "source": []
  },
  {
   "cell_type": "code",
   "execution_count": null,
   "id": "72bf4ad6",
   "metadata": {},
   "outputs": [],
   "source": []
  },
  {
   "cell_type": "code",
   "execution_count": null,
   "id": "989d201a",
   "metadata": {},
   "outputs": [],
   "source": []
  },
  {
   "cell_type": "code",
   "execution_count": null,
   "id": "40d9c974",
   "metadata": {},
   "outputs": [],
   "source": []
  },
  {
   "cell_type": "code",
   "execution_count": null,
   "id": "d5d5de31",
   "metadata": {},
   "outputs": [],
   "source": []
  },
  {
   "cell_type": "code",
   "execution_count": null,
   "id": "1e058885",
   "metadata": {},
   "outputs": [],
   "source": []
  },
  {
   "cell_type": "code",
   "execution_count": null,
   "id": "d8e61c34",
   "metadata": {},
   "outputs": [],
   "source": []
  }
 ],
 "metadata": {
  "kernelspec": {
   "display_name": "Python 3",
   "language": "python",
   "name": "python3"
  },
  "language_info": {
   "codemirror_mode": {
    "name": "ipython",
    "version": 3
   },
   "file_extension": ".py",
   "mimetype": "text/x-python",
   "name": "python",
   "nbconvert_exporter": "python",
   "pygments_lexer": "ipython3",
   "version": "3.8.8"
  }
 },
 "nbformat": 4,
 "nbformat_minor": 5
}
